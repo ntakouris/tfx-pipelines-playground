{
 "cells": [
  {
   "cell_type": "code",
   "execution_count": 1,
   "metadata": {},
   "outputs": [],
   "source": [
    "# import required libs\n",
    "import glob\n",
    "import os\n",
    "\n",
    "import tensorflow as tf\n",
    "import tensorflow_data_validation as tfdv\n",
    "\n",
    "from tfx.orchestration import metadata\n",
    "from tfx.types import standard_artifacts"
   ]
  },
  {
   "cell_type": "code",
   "execution_count": 2,
   "metadata": {},
   "outputs": [],
   "source": [
    "metadata_path = os.path.join(os.getcwd(), 'metadata.db')\n",
    "metadata_connection_config = metadata.sqlite_metadata_connection_config(metadata_path)"
   ]
  },
  {
   "cell_type": "code",
   "execution_count": 3,
   "metadata": {},
   "outputs": [
    {
     "data": {
      "text/plain": [
       "[id: 7\n",
       " type_id: 14\n",
       " uri: \"tfx/chicago_taxi_pipeline/Trainer/model/5\"\n",
       " custom_properties {\n",
       "   key: \"name\"\n",
       "   value {\n",
       "     string_value: \"model\"\n",
       "   }\n",
       " }\n",
       " custom_properties {\n",
       "   key: \"pipeline_name\"\n",
       "   value {\n",
       "     string_value: \"chicago_taxi_pipeline\"\n",
       "   }\n",
       " }\n",
       " custom_properties {\n",
       "   key: \"producer_component\"\n",
       "   value {\n",
       "     string_value: \"Trainer\"\n",
       "   }\n",
       " }\n",
       " custom_properties {\n",
       "   key: \"state\"\n",
       "   value {\n",
       "     string_value: \"published\"\n",
       "   }\n",
       " }\n",
       " create_time_since_epoch: 1598191099102\n",
       " last_update_time_since_epoch: 1598191111951]"
      ]
     },
     "execution_count": 3,
     "metadata": {},
     "output_type": "execute_result"
    }
   ],
   "source": [
    "with metadata.Metadata(metadata_connection_config) as store:\n",
    "    training_log_artifacts = store.get_artifacts_by_type(standard_artifacts.Model.TYPE_NAME)\n",
    "\n",
    "training_log_artifacts"
   ]
  },
  {
   "cell_type": "code",
   "execution_count": 4,
   "metadata": {},
   "outputs": [
    {
     "data": {
      "text/plain": [
       "'/Users/zarkopafilis/Desktop/youtube-tfx-pipelines/tfx/chicago_taxi_pipeline/Trainer/model/5/logs'"
      ]
     },
     "execution_count": 4,
     "metadata": {},
     "output_type": "execute_result"
    }
   ],
   "source": [
    "log_dir = os.path.join(os.getcwd(), training_log_artifacts[0].uri, 'logs')\n",
    "log_dir"
   ]
  },
  {
   "cell_type": "code",
   "execution_count": 5,
   "metadata": {},
   "outputs": [],
   "source": [
    "%load_ext tensorboard"
   ]
  },
  {
   "cell_type": "code",
   "execution_count": 6,
   "metadata": {},
   "outputs": [
    {
     "data": {
      "text/html": [
       "\n",
       "      <iframe id=\"tensorboard-frame-46e6c07d85872ba1\" width=\"100%\" height=\"800\" frameborder=\"0\">\n",
       "      </iframe>\n",
       "      <script>\n",
       "        (function() {\n",
       "          const frame = document.getElementById(\"tensorboard-frame-46e6c07d85872ba1\");\n",
       "          const url = new URL(\"/\", window.location);\n",
       "          const port = 6006;\n",
       "          if (port) {\n",
       "            url.port = port;\n",
       "          }\n",
       "          frame.src = url;\n",
       "        })();\n",
       "      </script>\n",
       "    "
      ],
      "text/plain": [
       "<IPython.core.display.HTML object>"
      ]
     },
     "metadata": {},
     "output_type": "display_data"
    }
   ],
   "source": [
    "%tensorboard --logdir {log_dir}"
   ]
  },
  {
   "cell_type": "code",
   "execution_count": null,
   "metadata": {},
   "outputs": [],
   "source": []
  }
 ],
 "metadata": {
  "kernelspec": {
   "display_name": "Python 3",
   "language": "python",
   "name": "python3"
  },
  "language_info": {
   "codemirror_mode": {
    "name": "ipython",
    "version": 3
   },
   "file_extension": ".py",
   "mimetype": "text/x-python",
   "name": "python",
   "nbconvert_exporter": "python",
   "pygments_lexer": "ipython3",
   "version": "3.7.3"
  }
 },
 "nbformat": 4,
 "nbformat_minor": 2
}
