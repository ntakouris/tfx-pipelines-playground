{
 "cells": [
  {
   "cell_type": "code",
   "execution_count": 1,
   "metadata": {},
   "outputs": [],
   "source": [
    "# import required libs\n",
    "import glob\n",
    "import os\n",
    "\n",
    "import tensorflow as tf\n",
    "import tensorflow_model_analysis as tfma\n",
    "\n",
    "from tfx.orchestration import metadata\n",
    "from tfx.types import standard_artifacts"
   ]
  },
  {
   "cell_type": "code",
   "execution_count": 2,
   "metadata": {},
   "outputs": [],
   "source": [
    "metadata_path = os.path.join(os.getcwd(), 'metadata.db')\n",
    "metadata_connection_config = metadata.sqlite_metadata_connection_config(metadata_path)"
   ]
  },
  {
   "cell_type": "code",
   "execution_count": 3,
   "metadata": {},
   "outputs": [
    {
     "data": {
      "text/plain": [
       "[id: 10\n",
       " type_id: 21\n",
       " uri: \"tfx/chicago_taxi_pipeline/Evaluator/evaluation/15\"\n",
       " custom_properties {\n",
       "   key: \"name\"\n",
       "   value {\n",
       "     string_value: \"evaluation\"\n",
       "   }\n",
       " }\n",
       " custom_properties {\n",
       "   key: \"pipeline_name\"\n",
       "   value {\n",
       "     string_value: \"chicago_taxi_pipeline\"\n",
       "   }\n",
       " }\n",
       " custom_properties {\n",
       "   key: \"producer_component\"\n",
       "   value {\n",
       "     string_value: \"Evaluator\"\n",
       "   }\n",
       " }\n",
       " create_time_since_epoch: 1598259964876\n",
       " last_update_time_since_epoch: 1598259964876,\n",
       " id: 13\n",
       " type_id: 21\n",
       " uri: \"tfx/chicago_taxi_pipeline/Evaluator/evaluation/24\"\n",
       " custom_properties {\n",
       "   key: \"name\"\n",
       "   value {\n",
       "     string_value: \"evaluation\"\n",
       "   }\n",
       " }\n",
       " custom_properties {\n",
       "   key: \"pipeline_name\"\n",
       "   value {\n",
       "     string_value: \"chicago_taxi_pipeline\"\n",
       "   }\n",
       " }\n",
       " custom_properties {\n",
       "   key: \"producer_component\"\n",
       "   value {\n",
       "     string_value: \"Evaluator\"\n",
       "   }\n",
       " }\n",
       " create_time_since_epoch: 1598260040274\n",
       " last_update_time_since_epoch: 1598260040274,\n",
       " id: 15\n",
       " type_id: 21\n",
       " uri: \"tfx/chicago_taxi_pipeline/Evaluator/evaluation/32\"\n",
       " custom_properties {\n",
       "   key: \"name\"\n",
       "   value {\n",
       "     string_value: \"evaluation\"\n",
       "   }\n",
       " }\n",
       " custom_properties {\n",
       "   key: \"pipeline_name\"\n",
       "   value {\n",
       "     string_value: \"chicago_taxi_pipeline\"\n",
       "   }\n",
       " }\n",
       " custom_properties {\n",
       "   key: \"producer_component\"\n",
       "   value {\n",
       "     string_value: \"Evaluator\"\n",
       "   }\n",
       " }\n",
       " custom_properties {\n",
       "   key: \"state\"\n",
       "   value {\n",
       "     string_value: \"published\"\n",
       "   }\n",
       " }\n",
       " create_time_since_epoch: 1598260269585\n",
       " last_update_time_since_epoch: 1598260299513]"
      ]
     },
     "execution_count": 3,
     "metadata": {},
     "output_type": "execute_result"
    }
   ],
   "source": [
    "with metadata.Metadata(metadata_connection_config) as store:\n",
    "    evaluator_artifacts = store.get_artifacts_by_type(standard_artifacts.ModelEvaluation.TYPE_NAME)\n",
    "\n",
    "evaluator_artifacts"
   ]
  },
  {
   "cell_type": "code",
   "execution_count": 13,
   "metadata": {
    "tags": []
   },
   "outputs": [
    {
     "data": {
      "text/plain": [
       "'/Users/zarkopafilis/Desktop/youtube-tfx-pipelines/tfx/chicago_taxi_pipeline/Evaluator/evaluation/32'"
      ]
     },
     "execution_count": 13,
     "metadata": {},
     "output_type": "execute_result"
    }
   ],
   "source": [
    "artifact_dir = os.path.join(os.getcwd(), evaluator_artifacts[-1].uri)\n",
    "artifact_dir"
   ]
  },
  {
   "cell_type": "code",
   "execution_count": 28,
   "metadata": {},
   "outputs": [
    {
     "data": {
      "text/plain": [
       "tensorflow_model_analysis.view.view_types.EvalResult"
      ]
     },
     "execution_count": 28,
     "metadata": {},
     "output_type": "execute_result"
    }
   ],
   "source": [
    "metric_result = tfma.load_eval_result(artifact_dir)\n",
    "type(metric_result)"
   ]
  },
  {
   "cell_type": "code",
   "execution_count": 30,
   "metadata": {},
   "outputs": [
    {
     "data": {
      "application/vnd.jupyter.widget-view+json": {
       "model_id": "f6dbda1c1ed1471b824bb4143d128e77",
       "version_major": 2,
       "version_minor": 0
      },
      "text/plain": [
       "SlicingMetricsViewer(config={'weightedExamplesColumn': 'example_count'}, data=[{'slice': 'trip_start_hour:11',…"
      ]
     },
     "metadata": {},
     "output_type": "display_data"
    }
   ],
   "source": [
    "tfma.view.render_slicing_metrics(metric_result, slicing_column='trip_start_hour')"
   ]
  }
 ],
 "metadata": {
  "kernelspec": {
   "display_name": "Python 3",
   "language": "python",
   "name": "python3"
  },
  "language_info": {
   "codemirror_mode": {
    "name": "ipython",
    "version": 3
   },
   "file_extension": ".py",
   "mimetype": "text/x-python",
   "name": "python",
   "nbconvert_exporter": "python",
   "pygments_lexer": "ipython3",
   "version": "3.7.3"
  }
 },
 "nbformat": 4,
 "nbformat_minor": 2
}
